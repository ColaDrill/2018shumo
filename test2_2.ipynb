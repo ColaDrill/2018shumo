{
 "cells": [
  {
   "cell_type": "code",
   "execution_count": 1,
   "metadata": {},
   "outputs": [],
   "source": [
    "import pandas as pd\n",
    "import numpy as np\n",
    "from scipy import sparse\n",
    "import matplotlib.pyplot as plt\n",
    "%matplotlib inline\n",
    "\n",
    "import string\n",
    "import seaborn as sns\n",
    "\n",
    "import lightgbm as lgb\n",
    "import xgboost as xgb\n",
    "from sklearn import ensemble, metrics, model_selection, naive_bayes\n",
    "from sklearn.preprocessing import OneHotEncoder, LabelEncoder\n",
    "from sklearn.feature_extraction.text import CountVectorizer,TfidfVectorizer"
   ]
  },
  {
   "cell_type": "code",
   "execution_count": 2,
   "metadata": {},
   "outputs": [],
   "source": [
    "data_in = pd.read_csv('data/fj1.csv', dtype={\"resolution\": str, \"gsubname2\":str, \"gname3\":str, \"gsubname3\":str, \"claimmode3_txt\":str, \"weaptype4_txt\":str, \"weapsubtype4_txt\":str, \"divert\":str, \"kidhijcountry\":str})"
   ]
  },
  {
   "cell_type": "code",
   "execution_count": 3,
   "metadata": {},
   "outputs": [],
   "source": [
    "def positive(x):\n",
    "    if isinstance(x,str):\n",
    "        return x\n",
    "    else:\n",
    "        return str(0);"
   ]
  },
  {
   "cell_type": "code",
   "execution_count": 4,
   "metadata": {},
   "outputs": [],
   "source": [
    "nlp_feature = ['country_txt', 'region_txt', 'provstate', 'city', 'alternative_txt', 'attacktype1_txt', 'targtype1_txt', 'motive', 'weaptype1_txt', 'scite1', 'scite2', 'scite3']\n",
    "\n",
    "for feature in nlp_feature:\n",
    "    data_in[feature].fillna('N', inplace = True)\n",
    "    data_in[feature].apply(positive)"
   ]
  },
  {
   "cell_type": "code",
   "execution_count": 5,
   "metadata": {},
   "outputs": [],
   "source": [
    "data_in['nlp'] = data_in[['country_txt', 'region_txt']].apply(lambda x: ''.join(x), axis=1)\n",
    "data_in['nlp'] = data_in[['nlp', 'provstate']].apply(lambda x: ''.join(x), axis=1)\n",
    "data_in['nlp'] = data_in[['nlp', 'city']].apply(lambda x: ''.join(x), axis=1)\n",
    "data_in['nlp'] = data_in[['nlp', 'alternative_txt']].apply(lambda x: ''.join(x), axis=1)\n",
    "data_in['nlp'] = data_in[['nlp', 'attacktype1_txt']].apply(lambda x: ''.join(x), axis=1)\n",
    "data_in['nlp'] = data_in[['nlp', 'targtype1_txt']].apply(lambda x: ''.join(x), axis=1)\n",
    "data_in['nlp'] = data_in[['nlp', 'motive']].apply(lambda x: ''.join(x), axis=1)\n",
    "data_in['nlp'] = data_in[['nlp', 'weaptype1_txt']].apply(lambda x: ''.join(x), axis=1)\n",
    "data_in['nlp'] = data_in[['nlp', 'scite1']].apply(lambda x: ''.join(x), axis=1)\n",
    "data_in['nlp'] = data_in[['nlp', 'scite2']].apply(lambda x: ''.join(x), axis=1)\n",
    "data_in['nlp'] = data_in[['nlp', 'scite3']].apply(lambda x: ''.join(x), axis=1)"
   ]
  },
  {
   "cell_type": "code",
   "execution_count": 6,
   "metadata": {},
   "outputs": [],
   "source": [
    "data = pd.DataFrame({\n",
    "        'eventid': data_in['eventid'],\n",
    "        'nlp': data_in['nlp'],\n",
    "        'gname': data_in['gname']\n",
    "    })"
   ]
  },
  {
   "cell_type": "code",
   "execution_count": null,
   "metadata": {},
   "outputs": [],
   "source": [
    "#data.to_csv('data/nlp_data.csv', index=False)"
   ]
  },
  {
   "cell_type": "markdown",
   "metadata": {},
   "source": [
    "构造训练集"
   ]
  },
  {
   "cell_type": "code",
   "execution_count": 7,
   "metadata": {},
   "outputs": [],
   "source": [
    "train = data[data.gname != 'Unknown']"
   ]
  },
  {
   "cell_type": "code",
   "execution_count": null,
   "metadata": {},
   "outputs": [],
   "source": [
    "#train.to_csv('data/nlp_train.csv', index=False)"
   ]
  },
  {
   "cell_type": "markdown",
   "metadata": {},
   "source": [
    "构造测试集"
   ]
  },
  {
   "cell_type": "code",
   "execution_count": 8,
   "metadata": {},
   "outputs": [],
   "source": [
    "out21 = pd.read_csv('data/21out.csv')\n",
    "test_in = out21[out21.gname == 'Unknown']\n",
    "test_in = pd.merge(test_in,data_in,on='eventid',how='left')"
   ]
  },
  {
   "cell_type": "code",
   "execution_count": 9,
   "metadata": {},
   "outputs": [],
   "source": [
    "test = pd.DataFrame({\n",
    "        'eventid': test_in['eventid'],\n",
    "        'nlp': test_in['nlp'],\n",
    "    })"
   ]
  },
  {
   "cell_type": "code",
   "execution_count": null,
   "metadata": {},
   "outputs": [],
   "source": [
    "#test.to_csv('data/nlp_test.csv', index=False)"
   ]
  },
  {
   "cell_type": "code",
   "execution_count": 10,
   "metadata": {},
   "outputs": [
    {
     "data": {
      "text/html": [
       "<div>\n",
       "<style scoped>\n",
       "    .dataframe tbody tr th:only-of-type {\n",
       "        vertical-align: middle;\n",
       "    }\n",
       "\n",
       "    .dataframe tbody tr th {\n",
       "        vertical-align: top;\n",
       "    }\n",
       "\n",
       "    .dataframe thead th {\n",
       "        text-align: right;\n",
       "    }\n",
       "</style>\n",
       "<table border=\"1\" class=\"dataframe\">\n",
       "  <thead>\n",
       "    <tr style=\"text-align: right;\">\n",
       "      <th></th>\n",
       "      <th>eventid</th>\n",
       "      <th>gname</th>\n",
       "      <th>nlp</th>\n",
       "    </tr>\n",
       "  </thead>\n",
       "  <tbody>\n",
       "    <tr>\n",
       "      <th>0</th>\n",
       "      <td>199801010001</td>\n",
       "      <td>Hutu extremists</td>\n",
       "      <td>BurundiSub-Saharan AfricaBujumbura MairieBujum...</td>\n",
       "    </tr>\n",
       "    <tr>\n",
       "      <th>2</th>\n",
       "      <td>199801010003</td>\n",
       "      <td>Loyalist Volunteer Forces (LVF)</td>\n",
       "      <td>United KingdomWestern EuropeNorthern IrelandBe...</td>\n",
       "    </tr>\n",
       "    <tr>\n",
       "      <th>5</th>\n",
       "      <td>199801040001</td>\n",
       "      <td>Kosovo Liberation Army (KLA)</td>\n",
       "      <td>MacedoniaEastern EuropeKumanovo (Municipality)...</td>\n",
       "    </tr>\n",
       "    <tr>\n",
       "      <th>6</th>\n",
       "      <td>199801040002</td>\n",
       "      <td>Kosovo Liberation Army (KLA)</td>\n",
       "      <td>MacedoniaEastern EuropePrilep (Municipality)Pr...</td>\n",
       "    </tr>\n",
       "    <tr>\n",
       "      <th>9</th>\n",
       "      <td>199801050003</td>\n",
       "      <td>Hutu extremists</td>\n",
       "      <td>RwandaSub-Saharan AfricaGitaramaGitaramaNArmed...</td>\n",
       "    </tr>\n",
       "  </tbody>\n",
       "</table>\n",
       "</div>"
      ],
      "text/plain": [
       "        eventid                            gname  \\\n",
       "0  199801010001                  Hutu extremists   \n",
       "2  199801010003  Loyalist Volunteer Forces (LVF)   \n",
       "5  199801040001     Kosovo Liberation Army (KLA)   \n",
       "6  199801040002     Kosovo Liberation Army (KLA)   \n",
       "9  199801050003                  Hutu extremists   \n",
       "\n",
       "                                                 nlp  \n",
       "0  BurundiSub-Saharan AfricaBujumbura MairieBujum...  \n",
       "2  United KingdomWestern EuropeNorthern IrelandBe...  \n",
       "5  MacedoniaEastern EuropeKumanovo (Municipality)...  \n",
       "6  MacedoniaEastern EuropePrilep (Municipality)Pr...  \n",
       "9  RwandaSub-Saharan AfricaGitaramaGitaramaNArmed...  "
      ]
     },
     "execution_count": 10,
     "metadata": {},
     "output_type": "execute_result"
    }
   ],
   "source": [
    "train.head()"
   ]
  },
  {
   "cell_type": "code",
   "execution_count": 28,
   "metadata": {},
   "outputs": [
    {
     "name": "stdout",
     "output_type": "stream",
     "text": [
      "<class 'pandas.core.frame.DataFrame'>\n",
      "Int64Index: 54681 entries, 0 to 114180\n",
      "Data columns (total 3 columns):\n",
      "eventid    54681 non-null int64\n",
      "gname      54681 non-null object\n",
      "nlp        54681 non-null object\n",
      "dtypes: int64(1), object(2)\n",
      "memory usage: 1.7+ MB\n"
     ]
    }
   ],
   "source": [
    "train.info()"
   ]
  },
  {
   "cell_type": "code",
   "execution_count": 11,
   "metadata": {},
   "outputs": [
    {
     "data": {
      "text/html": [
       "<div>\n",
       "<style scoped>\n",
       "    .dataframe tbody tr th:only-of-type {\n",
       "        vertical-align: middle;\n",
       "    }\n",
       "\n",
       "    .dataframe tbody tr th {\n",
       "        vertical-align: top;\n",
       "    }\n",
       "\n",
       "    .dataframe thead th {\n",
       "        text-align: right;\n",
       "    }\n",
       "</style>\n",
       "<table border=\"1\" class=\"dataframe\">\n",
       "  <thead>\n",
       "    <tr style=\"text-align: right;\">\n",
       "      <th></th>\n",
       "      <th>eventid</th>\n",
       "      <th>nlp</th>\n",
       "    </tr>\n",
       "  </thead>\n",
       "  <tbody>\n",
       "    <tr>\n",
       "      <th>0</th>\n",
       "      <td>201501010013</td>\n",
       "      <td>PakistanSouth AsiaSindhKarachiOther Crime Type...</td>\n",
       "    </tr>\n",
       "    <tr>\n",
       "      <th>1</th>\n",
       "      <td>201501010074</td>\n",
       "      <td>YemenMiddle East &amp; North AfricaMaribUnknownIns...</td>\n",
       "    </tr>\n",
       "    <tr>\n",
       "      <th>2</th>\n",
       "      <td>201501020049</td>\n",
       "      <td>Sri LankaSouth AsiaNorth WesternKurunegalaOthe...</td>\n",
       "    </tr>\n",
       "    <tr>\n",
       "      <th>3</th>\n",
       "      <td>201501020058</td>\n",
       "      <td>PakistanSouth AsiaKhyber PakhtunkhwaShinawariI...</td>\n",
       "    </tr>\n",
       "    <tr>\n",
       "      <th>4</th>\n",
       "      <td>201501020081</td>\n",
       "      <td>AfghanistanSouth AsiaNangarharJalalabadInsurge...</td>\n",
       "    </tr>\n",
       "  </tbody>\n",
       "</table>\n",
       "</div>"
      ],
      "text/plain": [
       "        eventid                                                nlp\n",
       "0  201501010013  PakistanSouth AsiaSindhKarachiOther Crime Type...\n",
       "1  201501010074  YemenMiddle East & North AfricaMaribUnknownIns...\n",
       "2  201501020049  Sri LankaSouth AsiaNorth WesternKurunegalaOthe...\n",
       "3  201501020058  PakistanSouth AsiaKhyber PakhtunkhwaShinawariI...\n",
       "4  201501020081  AfghanistanSouth AsiaNangarharJalalabadInsurge..."
      ]
     },
     "execution_count": 11,
     "metadata": {},
     "output_type": "execute_result"
    }
   ],
   "source": [
    "test.head()"
   ]
  },
  {
   "cell_type": "code",
   "execution_count": 30,
   "metadata": {},
   "outputs": [
    {
     "name": "stdout",
     "output_type": "stream",
     "text": [
      "<class 'pandas.core.frame.DataFrame'>\n",
      "Int64Index: 2049 entries, 0 to 2048\n",
      "Data columns (total 2 columns):\n",
      "eventid    2049 non-null int64\n",
      "nlp        2049 non-null object\n",
      "dtypes: int64(1), object(1)\n",
      "memory usage: 48.0+ KB\n"
     ]
    }
   ],
   "source": [
    "test.info()"
   ]
  },
  {
   "cell_type": "markdown",
   "metadata": {},
   "source": [
    "模型构建"
   ]
  },
  {
   "cell_type": "code",
   "execution_count": 13,
   "metadata": {
    "scrolled": true
   },
   "outputs": [
    {
     "name": "stdout",
     "output_type": "stream",
     "text": [
      "tfidf prepared !\n"
     ]
    }
   ],
   "source": [
    "from sklearn.feature_extraction.text import CountVectorizer,TfidfVectorizer\n",
    "\n",
    "tfidf = TfidfVectorizer()\n",
    "tfidf.fit(data['nlp'])\n",
    "train_x = tfidf.transform(train['nlp'])\n",
    "test_x = tfidf.transform(test['nlp'])\n",
    "print('tfidf prepared !')"
   ]
  },
  {
   "cell_type": "code",
   "execution_count": 14,
   "metadata": {},
   "outputs": [
    {
     "data": {
      "text/plain": [
       "<54681x104128 sparse matrix of type '<class 'numpy.float64'>'\n",
       "\twith 2030384 stored elements in Compressed Sparse Row format>"
      ]
     },
     "execution_count": 14,
     "metadata": {},
     "output_type": "execute_result"
    }
   ],
   "source": [
    "train_x"
   ]
  },
  {
   "cell_type": "code",
   "execution_count": 15,
   "metadata": {},
   "outputs": [
    {
     "data": {
      "text/plain": [
       "<2049x104128 sparse matrix of type '<class 'numpy.float64'>'\n",
       "\twith 57458 stored elements in Compressed Sparse Row format>"
      ]
     },
     "execution_count": 15,
     "metadata": {},
     "output_type": "execute_result"
    }
   ],
   "source": [
    "test_x"
   ]
  },
  {
   "cell_type": "code",
   "execution_count": 21,
   "metadata": {},
   "outputs": [],
   "source": [
    "#author_mapping_dict = {'Islamic State of Iraq and the Levant (ISIL)':0, 'Taliban':1, 'Al-Shabaab':2, 'Boko Haram':3, 'Houthi extremists (Ansar Allah)':4}\n",
    "#train_y = train['gname'].map(author_mapping_dict)\n",
    "from sklearn.preprocessing import LabelEncoder\n",
    "\n",
    "enc = LabelEncoder()\n",
    "train_y = enc.fit_transform(train.gname.values)"
   ]
  },
  {
   "cell_type": "code",
   "execution_count": 22,
   "metadata": {},
   "outputs": [
    {
     "name": "stdout",
     "output_type": "stream",
     "text": [
      "Mean cv score :  4.086477955674451\n",
      "Acc : -3.086477955674451\n"
     ]
    }
   ],
   "source": [
    "from sklearn import ensemble, metrics, model_selection, naive_bayes\n",
    "from sklearn.naive_bayes import MultinomialNB\n",
    "\n",
    "clf = MultinomialNB()\n",
    "clf.fit(train_x, train_y)\n",
    "predictions = clf.predict_proba(train_x)\n",
    "\n",
    "cv_scores = []\n",
    "cv_scores.append(metrics.log_loss(train_y, predictions))\n",
    "print(\"Mean cv score : \", np.mean(cv_scores))\n",
    "print(\"Acc :\", 1-np.mean(cv_scores))"
   ]
  },
  {
   "cell_type": "code",
   "execution_count": 24,
   "metadata": {},
   "outputs": [
    {
     "data": {
      "text/plain": [
       "array([[1.04668355e-10, 1.14934004e-10, 2.45280989e-11, ...,\n",
       "        2.46308194e-11, 2.40433174e-11, 2.36522531e-11],\n",
       "       [1.19683438e-08, 1.19649164e-08, 3.10571934e-09, ...,\n",
       "        3.01081057e-09, 3.01906806e-09, 3.02447983e-09],\n",
       "       [1.58776788e-06, 1.57038221e-06, 3.96514816e-07, ...,\n",
       "        3.93000707e-07, 3.93005979e-07, 3.93018251e-07],\n",
       "       ...,\n",
       "       [3.64930310e-08, 3.61318193e-08, 8.87180859e-09, ...,\n",
       "        8.86529719e-09, 8.86727677e-09, 9.07828397e-09],\n",
       "       [2.38359518e-09, 2.46168672e-09, 5.63708272e-10, ...,\n",
       "        5.83772584e-10, 5.87990222e-10, 5.80016423e-10],\n",
       "       [3.91655409e-10, 3.86044593e-10, 9.74725709e-11, ...,\n",
       "        9.71036239e-11, 9.73520784e-11, 1.03085921e-10]])"
      ]
     },
     "execution_count": 24,
     "metadata": {},
     "output_type": "execute_result"
    }
   ],
   "source": [
    "prediction = clf.predict_proba(test_x)\n",
    "prediction"
   ]
  },
  {
   "cell_type": "code",
   "execution_count": 25,
   "metadata": {},
   "outputs": [],
   "source": [
    "out_df = pd.DataFrame(prediction)\n",
    "out_df.columns = list(enc.classes_)\n",
    "out_df.insert(0, 'eventid', test['eventid'])\n",
    "out_df.to_csv(\"data/out_2_2.csv\", index=False)"
   ]
  },
  {
   "cell_type": "code",
   "execution_count": 26,
   "metadata": {},
   "outputs": [],
   "source": [
    "df = out_df.drop('eventid',axis=1)\n",
    "pred = df.idxmax(axis=1)"
   ]
  },
  {
   "cell_type": "code",
   "execution_count": 27,
   "metadata": {},
   "outputs": [],
   "source": [
    "submission = pd.DataFrame({\n",
    "        \"eventid\": test['eventid'],\n",
    "        \"gname\": pred\n",
    "    })\n",
    "submission.to_csv('data/out_2_1.csv', index=False)"
   ]
  },
  {
   "cell_type": "code",
   "execution_count": null,
   "metadata": {},
   "outputs": [],
   "source": []
  }
 ],
 "metadata": {
  "kernelspec": {
   "display_name": "Python 3",
   "language": "python",
   "name": "python3"
  },
  "language_info": {
   "codemirror_mode": {
    "name": "ipython",
    "version": 3
   },
   "file_extension": ".py",
   "mimetype": "text/x-python",
   "name": "python",
   "nbconvert_exporter": "python",
   "pygments_lexer": "ipython3",
   "version": "3.6.4"
  }
 },
 "nbformat": 4,
 "nbformat_minor": 2
}
