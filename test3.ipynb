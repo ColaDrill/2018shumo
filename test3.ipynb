{
 "cells": [
  {
   "cell_type": "code",
   "execution_count": 1,
   "metadata": {},
   "outputs": [],
   "source": [
    "import pandas as pd\n",
    "import numpy as np\n",
    "import scipy as sp\n",
    "\n",
    "data = pd.read_csv('data/fj1.csv', dtype={\"resolution\": str, \"gsubname2\":str, \"gname3\":str, \"gsubname3\":str, \"claimmode3_txt\":str, \"weaptype4_txt\":str, \"weapsubtype4_txt\":str, \"divert\":str, \"kidhijcountry\":str})"
   ]
  },
  {
   "cell_type": "code",
   "execution_count": 6,
   "metadata": {},
   "outputs": [],
   "source": [
    "out = pd.read_csv('data/test3_in.csv') \n",
    "\n",
    "for year in range(1998,2018):\n",
    "    need = data[data.iyear == year]\n",
    "    need = need[['eventid','region']]\n",
    "    df = need.groupby(by=['region'])['eventid'].count()\n",
    "    count =pd.DataFrame({\"region\":df.index,str(year):df})\n",
    "    out = pd.merge(out,count,on='region',how='left')"
   ]
  },
  {
   "cell_type": "code",
   "execution_count": 10,
   "metadata": {},
   "outputs": [],
   "source": [
    "out.fillna(0, inplace = True)"
   ]
  },
  {
   "cell_type": "code",
   "execution_count": 11,
   "metadata": {},
   "outputs": [],
   "source": [
    "out.to_csv('data/test3_out.csv', index=False)"
   ]
  },
  {
   "cell_type": "code",
   "execution_count": 12,
   "metadata": {
    "scrolled": true
   },
   "outputs": [
    {
     "data": {
      "text/html": [
       "<div>\n",
       "<style scoped>\n",
       "    .dataframe tbody tr th:only-of-type {\n",
       "        vertical-align: middle;\n",
       "    }\n",
       "\n",
       "    .dataframe tbody tr th {\n",
       "        vertical-align: top;\n",
       "    }\n",
       "\n",
       "    .dataframe thead th {\n",
       "        text-align: right;\n",
       "    }\n",
       "</style>\n",
       "<table border=\"1\" class=\"dataframe\">\n",
       "  <thead>\n",
       "    <tr style=\"text-align: right;\">\n",
       "      <th></th>\n",
       "      <th>region</th>\n",
       "      <th>1998</th>\n",
       "      <th>1999</th>\n",
       "      <th>2000</th>\n",
       "      <th>2001</th>\n",
       "      <th>2002</th>\n",
       "      <th>2003</th>\n",
       "      <th>2004</th>\n",
       "      <th>2005</th>\n",
       "      <th>2006</th>\n",
       "      <th>...</th>\n",
       "      <th>2008</th>\n",
       "      <th>2009</th>\n",
       "      <th>2010</th>\n",
       "      <th>2011</th>\n",
       "      <th>2012</th>\n",
       "      <th>2013</th>\n",
       "      <th>2014</th>\n",
       "      <th>2015</th>\n",
       "      <th>2016</th>\n",
       "      <th>2017</th>\n",
       "    </tr>\n",
       "  </thead>\n",
       "  <tbody>\n",
       "    <tr>\n",
       "      <th>0</th>\n",
       "      <td>1</td>\n",
       "      <td>37</td>\n",
       "      <td>56</td>\n",
       "      <td>41</td>\n",
       "      <td>48</td>\n",
       "      <td>33</td>\n",
       "      <td>34</td>\n",
       "      <td>12.0</td>\n",
       "      <td>22.0</td>\n",
       "      <td>15</td>\n",
       "      <td>...</td>\n",
       "      <td>31.0</td>\n",
       "      <td>16</td>\n",
       "      <td>24</td>\n",
       "      <td>12.0</td>\n",
       "      <td>39.0</td>\n",
       "      <td>32</td>\n",
       "      <td>37</td>\n",
       "      <td>62</td>\n",
       "      <td>75</td>\n",
       "      <td>97</td>\n",
       "    </tr>\n",
       "    <tr>\n",
       "      <th>1</th>\n",
       "      <td>2</td>\n",
       "      <td>1</td>\n",
       "      <td>8</td>\n",
       "      <td>14</td>\n",
       "      <td>8</td>\n",
       "      <td>3</td>\n",
       "      <td>8</td>\n",
       "      <td>5.0</td>\n",
       "      <td>3.0</td>\n",
       "      <td>5</td>\n",
       "      <td>...</td>\n",
       "      <td>0.0</td>\n",
       "      <td>9</td>\n",
       "      <td>1</td>\n",
       "      <td>1.0</td>\n",
       "      <td>1.0</td>\n",
       "      <td>14</td>\n",
       "      <td>5</td>\n",
       "      <td>1</td>\n",
       "      <td>3</td>\n",
       "      <td>4</td>\n",
       "    </tr>\n",
       "    <tr>\n",
       "      <th>2</th>\n",
       "      <td>3</td>\n",
       "      <td>108</td>\n",
       "      <td>134</td>\n",
       "      <td>150</td>\n",
       "      <td>229</td>\n",
       "      <td>162</td>\n",
       "      <td>117</td>\n",
       "      <td>42.0</td>\n",
       "      <td>49.0</td>\n",
       "      <td>50</td>\n",
       "      <td>...</td>\n",
       "      <td>144.0</td>\n",
       "      <td>159</td>\n",
       "      <td>148</td>\n",
       "      <td>106.0</td>\n",
       "      <td>133.0</td>\n",
       "      <td>182</td>\n",
       "      <td>283</td>\n",
       "      <td>176</td>\n",
       "      <td>159</td>\n",
       "      <td>172</td>\n",
       "    </tr>\n",
       "    <tr>\n",
       "      <th>3</th>\n",
       "      <td>4</td>\n",
       "      <td>9</td>\n",
       "      <td>4</td>\n",
       "      <td>19</td>\n",
       "      <td>19</td>\n",
       "      <td>4</td>\n",
       "      <td>6</td>\n",
       "      <td>4.0</td>\n",
       "      <td>2.0</td>\n",
       "      <td>1</td>\n",
       "      <td>...</td>\n",
       "      <td>25.0</td>\n",
       "      <td>8</td>\n",
       "      <td>1</td>\n",
       "      <td>4.0</td>\n",
       "      <td>4.0</td>\n",
       "      <td>15</td>\n",
       "      <td>43</td>\n",
       "      <td>28</td>\n",
       "      <td>8</td>\n",
       "      <td>7</td>\n",
       "    </tr>\n",
       "    <tr>\n",
       "      <th>4</th>\n",
       "      <td>5</td>\n",
       "      <td>32</td>\n",
       "      <td>107</td>\n",
       "      <td>256</td>\n",
       "      <td>185</td>\n",
       "      <td>110</td>\n",
       "      <td>145</td>\n",
       "      <td>95.0</td>\n",
       "      <td>204.0</td>\n",
       "      <td>272</td>\n",
       "      <td>...</td>\n",
       "      <td>514.0</td>\n",
       "      <td>561</td>\n",
       "      <td>473</td>\n",
       "      <td>356.0</td>\n",
       "      <td>587.0</td>\n",
       "      <td>1188</td>\n",
       "      <td>1082</td>\n",
       "      <td>1072</td>\n",
       "      <td>1077</td>\n",
       "      <td>1020</td>\n",
       "    </tr>\n",
       "    <tr>\n",
       "      <th>5</th>\n",
       "      <td>6</td>\n",
       "      <td>136</td>\n",
       "      <td>225</td>\n",
       "      <td>357</td>\n",
       "      <td>385</td>\n",
       "      <td>334</td>\n",
       "      <td>353</td>\n",
       "      <td>369.0</td>\n",
       "      <td>604.0</td>\n",
       "      <td>938</td>\n",
       "      <td>...</td>\n",
       "      <td>1759.0</td>\n",
       "      <td>1945</td>\n",
       "      <td>1981</td>\n",
       "      <td>2138.0</td>\n",
       "      <td>3803.0</td>\n",
       "      <td>4612</td>\n",
       "      <td>4998</td>\n",
       "      <td>4585</td>\n",
       "      <td>3639</td>\n",
       "      <td>3430</td>\n",
       "    </tr>\n",
       "    <tr>\n",
       "      <th>6</th>\n",
       "      <td>7</td>\n",
       "      <td>25</td>\n",
       "      <td>24</td>\n",
       "      <td>21</td>\n",
       "      <td>18</td>\n",
       "      <td>6</td>\n",
       "      <td>7</td>\n",
       "      <td>8.0</td>\n",
       "      <td>11.0</td>\n",
       "      <td>6</td>\n",
       "      <td>...</td>\n",
       "      <td>36.0</td>\n",
       "      <td>31</td>\n",
       "      <td>9</td>\n",
       "      <td>9.0</td>\n",
       "      <td>12.0</td>\n",
       "      <td>7</td>\n",
       "      <td>9</td>\n",
       "      <td>10</td>\n",
       "      <td>17</td>\n",
       "      <td>7</td>\n",
       "    </tr>\n",
       "    <tr>\n",
       "      <th>7</th>\n",
       "      <td>8</td>\n",
       "      <td>141</td>\n",
       "      <td>236</td>\n",
       "      <td>253</td>\n",
       "      <td>234</td>\n",
       "      <td>120</td>\n",
       "      <td>121</td>\n",
       "      <td>59.0</td>\n",
       "      <td>104.0</td>\n",
       "      <td>98</td>\n",
       "      <td>...</td>\n",
       "      <td>163.0</td>\n",
       "      <td>182</td>\n",
       "      <td>133</td>\n",
       "      <td>95.0</td>\n",
       "      <td>193.0</td>\n",
       "      <td>261</td>\n",
       "      <td>215</td>\n",
       "      <td>333</td>\n",
       "      <td>273</td>\n",
       "      <td>291</td>\n",
       "    </tr>\n",
       "    <tr>\n",
       "      <th>8</th>\n",
       "      <td>9</td>\n",
       "      <td>105</td>\n",
       "      <td>138</td>\n",
       "      <td>234</td>\n",
       "      <td>252</td>\n",
       "      <td>112</td>\n",
       "      <td>100</td>\n",
       "      <td>46.0</td>\n",
       "      <td>76.0</td>\n",
       "      <td>70</td>\n",
       "      <td>...</td>\n",
       "      <td>209.0</td>\n",
       "      <td>165</td>\n",
       "      <td>261</td>\n",
       "      <td>198.0</td>\n",
       "      <td>173.0</td>\n",
       "      <td>165</td>\n",
       "      <td>962</td>\n",
       "      <td>684</td>\n",
       "      <td>134</td>\n",
       "      <td>110</td>\n",
       "    </tr>\n",
       "    <tr>\n",
       "      <th>9</th>\n",
       "      <td>10</td>\n",
       "      <td>247</td>\n",
       "      <td>316</td>\n",
       "      <td>272</td>\n",
       "      <td>362</td>\n",
       "      <td>326</td>\n",
       "      <td>310</td>\n",
       "      <td>492.0</td>\n",
       "      <td>882.0</td>\n",
       "      <td>1187</td>\n",
       "      <td>...</td>\n",
       "      <td>1536.0</td>\n",
       "      <td>1361</td>\n",
       "      <td>1463</td>\n",
       "      <td>1663.0</td>\n",
       "      <td>2409.0</td>\n",
       "      <td>4559</td>\n",
       "      <td>6939</td>\n",
       "      <td>6036</td>\n",
       "      <td>6115</td>\n",
       "      <td>3780</td>\n",
       "    </tr>\n",
       "    <tr>\n",
       "      <th>10</th>\n",
       "      <td>11</td>\n",
       "      <td>87</td>\n",
       "      <td>143</td>\n",
       "      <td>191</td>\n",
       "      <td>162</td>\n",
       "      <td>121</td>\n",
       "      <td>73</td>\n",
       "      <td>34.0</td>\n",
       "      <td>60.0</td>\n",
       "      <td>114</td>\n",
       "      <td>...</td>\n",
       "      <td>380.0</td>\n",
       "      <td>283</td>\n",
       "      <td>331</td>\n",
       "      <td>494.0</td>\n",
       "      <td>1168.0</td>\n",
       "      <td>999</td>\n",
       "      <td>2321</td>\n",
       "      <td>1964</td>\n",
       "      <td>2077</td>\n",
       "      <td>1970</td>\n",
       "    </tr>\n",
       "    <tr>\n",
       "      <th>11</th>\n",
       "      <td>12</td>\n",
       "      <td>6</td>\n",
       "      <td>4</td>\n",
       "      <td>6</td>\n",
       "      <td>4</td>\n",
       "      <td>2</td>\n",
       "      <td>4</td>\n",
       "      <td>0.0</td>\n",
       "      <td>0.0</td>\n",
       "      <td>2</td>\n",
       "      <td>...</td>\n",
       "      <td>8.0</td>\n",
       "      <td>1</td>\n",
       "      <td>1</td>\n",
       "      <td>0.0</td>\n",
       "      <td>0.0</td>\n",
       "      <td>1</td>\n",
       "      <td>9</td>\n",
       "      <td>14</td>\n",
       "      <td>10</td>\n",
       "      <td>12</td>\n",
       "    </tr>\n",
       "  </tbody>\n",
       "</table>\n",
       "<p>12 rows × 21 columns</p>\n",
       "</div>"
      ],
      "text/plain": [
       "    region  1998  1999  2000  2001  2002  2003   2004   2005  2006  ...   \\\n",
       "0        1    37    56    41    48    33    34   12.0   22.0    15  ...    \n",
       "1        2     1     8    14     8     3     8    5.0    3.0     5  ...    \n",
       "2        3   108   134   150   229   162   117   42.0   49.0    50  ...    \n",
       "3        4     9     4    19    19     4     6    4.0    2.0     1  ...    \n",
       "4        5    32   107   256   185   110   145   95.0  204.0   272  ...    \n",
       "5        6   136   225   357   385   334   353  369.0  604.0   938  ...    \n",
       "6        7    25    24    21    18     6     7    8.0   11.0     6  ...    \n",
       "7        8   141   236   253   234   120   121   59.0  104.0    98  ...    \n",
       "8        9   105   138   234   252   112   100   46.0   76.0    70  ...    \n",
       "9       10   247   316   272   362   326   310  492.0  882.0  1187  ...    \n",
       "10      11    87   143   191   162   121    73   34.0   60.0   114  ...    \n",
       "11      12     6     4     6     4     2     4    0.0    0.0     2  ...    \n",
       "\n",
       "      2008  2009  2010    2011    2012  2013  2014  2015  2016  2017  \n",
       "0     31.0    16    24    12.0    39.0    32    37    62    75    97  \n",
       "1      0.0     9     1     1.0     1.0    14     5     1     3     4  \n",
       "2    144.0   159   148   106.0   133.0   182   283   176   159   172  \n",
       "3     25.0     8     1     4.0     4.0    15    43    28     8     7  \n",
       "4    514.0   561   473   356.0   587.0  1188  1082  1072  1077  1020  \n",
       "5   1759.0  1945  1981  2138.0  3803.0  4612  4998  4585  3639  3430  \n",
       "6     36.0    31     9     9.0    12.0     7     9    10    17     7  \n",
       "7    163.0   182   133    95.0   193.0   261   215   333   273   291  \n",
       "8    209.0   165   261   198.0   173.0   165   962   684   134   110  \n",
       "9   1536.0  1361  1463  1663.0  2409.0  4559  6939  6036  6115  3780  \n",
       "10   380.0   283   331   494.0  1168.0   999  2321  1964  2077  1970  \n",
       "11     8.0     1     1     0.0     0.0     1     9    14    10    12  \n",
       "\n",
       "[12 rows x 21 columns]"
      ]
     },
     "execution_count": 12,
     "metadata": {},
     "output_type": "execute_result"
    }
   ],
   "source": [
    "out"
   ]
  },
  {
   "cell_type": "markdown",
   "metadata": {},
   "source": [
    "从这开始"
   ]
  },
  {
   "cell_type": "code",
   "execution_count": 3,
   "metadata": {},
   "outputs": [],
   "source": [
    "#out = pd.read_csv('data/test3_out.csv')"
   ]
  },
  {
   "cell_type": "code",
   "execution_count": 1,
   "metadata": {},
   "outputs": [
    {
     "name": "stderr",
     "output_type": "stream",
     "text": [
      "C:\\Users\\caijiayue\\AppData\\Local\\Continuum\\anaconda3\\lib\\site-packages\\statsmodels\\compat\\pandas.py:56: FutureWarning: The pandas.core.datetools module is deprecated and will be removed in a future version. Please use the pandas.tseries module instead.\n",
      "  from pandas.core import datetools\n"
     ]
    }
   ],
   "source": [
    "import pandas as pd\n",
    "import matplotlib.pyplot as plt\n",
    "from statsmodels.graphics.tsaplots import plot_acf\n",
    "from statsmodels.graphics.tsaplots import plot_pacf\n",
    "from statsmodels.tsa.stattools import adfuller as ADF"
   ]
  },
  {
   "cell_type": "code",
   "execution_count": 20,
   "metadata": {},
   "outputs": [],
   "source": [
    "filename='C:/Users/caijiayue/Desktop/1.xls'\n",
    "forrecastnum=1\n",
    "data=pd.read_excel(filename,index_col=u'年份')\n",
    "plt.rcParams['font.sans-serif'] = ['SimHei']\n",
    "plt.rcParams['axes.unicode_minus'] = False"
   ]
  },
  {
   "cell_type": "code",
   "execution_count": 21,
   "metadata": {},
   "outputs": [
    {
     "data": {
      "image/png": "[encoded data removed]",
      "text/plain": [
       "<matplotlib.figure.Figure at 0x248cecf59b0>"
      ]
     },
     "metadata": {},
     "output_type": "display_data"
    },
    {
     "data": {
      "image/png": "[encoded data removed]",
      "text/plain": [
       "<matplotlib.figure.Figure at 0x248d073de48>"
      ]
     },
     "metadata": {},
     "output_type": "display_data"
    },
    {
     "name": "stdout",
     "output_type": "stream",
     "text": [
      "原始序列的ADF检验结果为： (0.0, 0.958532086060056, 9, 10, {'1%': -4.331573, '5%': -3.23295, '10%': -2.7487}, -583.181685234933)\n"
     ]
    },
    {
     "name": "stderr",
     "output_type": "stream",
     "text": [
      "C:\\Users\\caijiayue\\AppData\\Local\\Continuum\\anaconda3\\lib\\site-packages\\statsmodels\\regression\\linear_model.py:1353: RuntimeWarning: divide by zero encountered in double_scalars\n",
      "  return np.dot(wresid, wresid) / self.df_resid\n"
     ]
    }
   ],
   "source": [
    "data.plot()\n",
    "plt.title('Time Series')\n",
    "plt.show()\n",
    "plot_acf(data)\n",
    "plt.show()\n",
    "print(u'原始序列的ADF检验结果为：',ADF(data[u'数目']))"
   ]
  },
  {
   "cell_type": "code",
   "execution_count": 17,
   "metadata": {},
   "outputs": [
    {
     "data": {
      "image/png": "[encoded data removed]",
      "text/plain": [
       "<matplotlib.figure.Figure at 0x248ced71470>"
      ]
     },
     "metadata": {},
     "output_type": "display_data"
    },
    {
     "name": "stdout",
     "output_type": "stream",
     "text": [
      "1阶差分序列的ADF检验结果为： (0.0, 0.958532086060056, 8, 10, {'1%': -4.331573, '5%': -3.23295, '10%': -2.7487}, -555.2382162072479)\n"
     ]
    },
    {
     "name": "stderr",
     "output_type": "stream",
     "text": [
      "C:\\Users\\caijiayue\\AppData\\Local\\Continuum\\anaconda3\\lib\\site-packages\\matplotlib\\figure.py:418: UserWarning: matplotlib is currently using a non-GUI backend, so cannot show the figure\n",
      "  \"matplotlib is currently using a non-GUI backend, \"\n",
      "C:\\Users\\caijiayue\\AppData\\Local\\Continuum\\anaconda3\\lib\\site-packages\\statsmodels\\regression\\linear_model.py:1353: RuntimeWarning: divide by zero encountered in double_scalars\n",
      "  return np.dot(wresid, wresid) / self.df_resid\n"
     ]
    },
    {
     "data": {
      "image/png": "[encoded data removed]",
      "text/plain": [
       "<matplotlib.figure.Figure at 0x248cf056978>"
      ]
     },
     "metadata": {},
     "output_type": "display_data"
    },
    {
     "data": {
      "image/png": "[encoded data removed]",
      "text/plain": [
       "<matplotlib.figure.Figure at 0x248cb4124e0>"
      ]
     },
     "metadata": {},
     "output_type": "display_data"
    }
   ],
   "source": [
    "D_data=data.diff(periods=1).dropna()\n",
    "D_data.columns=[u'数目差分']\n",
    "D_data.plot()\n",
    "plt.show()\n",
    "plot_acf(D_data).show()\n",
    "plot_pacf(D_data).show()\n",
    "print(u'1阶差分序列的ADF检验结果为：',ADF(D_data[u'数目差分']))"
   ]
  },
  {
   "cell_type": "code",
   "execution_count": 18,
   "metadata": {},
   "outputs": [
    {
     "name": "stdout",
     "output_type": "stream",
     "text": [
      "差分序列的白噪声检验结果为： (array([1.67003802]), array([0.19625344]))\n"
     ]
    }
   ],
   "source": [
    "from statsmodels.stats.diagnostic import acorr_ljungbox\n",
    "print(u'差分序列的白噪声检验结果为：',acorr_ljungbox(D_data,lags=1))"
   ]
  },
  {
   "cell_type": "code",
   "execution_count": 19,
   "metadata": {},
   "outputs": [
    {
     "name": "stdout",
     "output_type": "stream",
     "text": [
      "      0     1\n",
      "0  None  None\n",
      "1  None  None\n"
     ]
    },
    {
     "ename": "TypeError",
     "evalue": "reduction operation 'argmin' not allowed for this dtype",
     "output_type": "error",
     "traceback": [
      "\u001b[1;31m---------------------------------------------------------------------------\u001b[0m",
      "\u001b[1;31mTypeError\u001b[0m                                 Traceback (most recent call last)",
      "\u001b[1;32m<ipython-input-19-5c29980aa15f>\u001b[0m in \u001b[0;36m<module>\u001b[1;34m()\u001b[0m\n\u001b[0;32m     14\u001b[0m \u001b[0mbic_matrix\u001b[0m\u001b[1;33m=\u001b[0m\u001b[0mpd\u001b[0m\u001b[1;33m.\u001b[0m\u001b[0mDataFrame\u001b[0m\u001b[1;33m(\u001b[0m\u001b[0mbic_matrix\u001b[0m\u001b[1;33m)\u001b[0m\u001b[1;33m\u001b[0m\u001b[0m\n\u001b[0;32m     15\u001b[0m \u001b[0mprint\u001b[0m\u001b[1;33m(\u001b[0m\u001b[0mbic_matrix\u001b[0m\u001b[1;33m)\u001b[0m\u001b[1;33m\u001b[0m\u001b[0m\n\u001b[1;32m---> 16\u001b[1;33m \u001b[0mp\u001b[0m\u001b[1;33m,\u001b[0m\u001b[0mq\u001b[0m\u001b[1;33m=\u001b[0m\u001b[0mbic_matrix\u001b[0m\u001b[1;33m.\u001b[0m\u001b[0mstack\u001b[0m\u001b[1;33m(\u001b[0m\u001b[1;33m)\u001b[0m\u001b[1;33m.\u001b[0m\u001b[0midxmin\u001b[0m\u001b[1;33m(\u001b[0m\u001b[1;33m)\u001b[0m\u001b[1;33m\u001b[0m\u001b[0m\n\u001b[0m\u001b[0;32m     17\u001b[0m \u001b[0mprint\u001b[0m\u001b[1;33m(\u001b[0m\u001b[1;34mu'bic最小的P值和q值为：%s、%s'\u001b[0m\u001b[1;33m%\u001b[0m\u001b[1;33m(\u001b[0m\u001b[0mp\u001b[0m\u001b[1;33m,\u001b[0m\u001b[0mq\u001b[0m\u001b[1;33m)\u001b[0m\u001b[1;33m)\u001b[0m\u001b[1;33m\u001b[0m\u001b[0m\n",
      "\u001b[1;32m~\\AppData\\Local\\Continuum\\anaconda3\\lib\\site-packages\\pandas\\core\\series.py\u001b[0m in \u001b[0;36midxmin\u001b[1;34m(self, axis, skipna, *args, **kwargs)\u001b[0m\n\u001b[0;32m   1331\u001b[0m         \"\"\"\n\u001b[0;32m   1332\u001b[0m         \u001b[0mskipna\u001b[0m \u001b[1;33m=\u001b[0m \u001b[0mnv\u001b[0m\u001b[1;33m.\u001b[0m\u001b[0mvalidate_argmin_with_skipna\u001b[0m\u001b[1;33m(\u001b[0m\u001b[0mskipna\u001b[0m\u001b[1;33m,\u001b[0m \u001b[0margs\u001b[0m\u001b[1;33m,\u001b[0m \u001b[0mkwargs\u001b[0m\u001b[1;33m)\u001b[0m\u001b[1;33m\u001b[0m\u001b[0m\n\u001b[1;32m-> 1333\u001b[1;33m         \u001b[0mi\u001b[0m \u001b[1;33m=\u001b[0m \u001b[0mnanops\u001b[0m\u001b[1;33m.\u001b[0m\u001b[0mnanargmin\u001b[0m\u001b[1;33m(\u001b[0m\u001b[0m_values_from_object\u001b[0m\u001b[1;33m(\u001b[0m\u001b[0mself\u001b[0m\u001b[1;33m)\u001b[0m\u001b[1;33m,\u001b[0m \u001b[0mskipna\u001b[0m\u001b[1;33m=\u001b[0m\u001b[0mskipna\u001b[0m\u001b[1;33m)\u001b[0m\u001b[1;33m\u001b[0m\u001b[0m\n\u001b[0m\u001b[0;32m   1334\u001b[0m         \u001b[1;32mif\u001b[0m \u001b[0mi\u001b[0m \u001b[1;33m==\u001b[0m \u001b[1;33m-\u001b[0m\u001b[1;36m1\u001b[0m\u001b[1;33m:\u001b[0m\u001b[1;33m\u001b[0m\u001b[0m\n\u001b[0;32m   1335\u001b[0m             \u001b[1;32mreturn\u001b[0m \u001b[0mnp\u001b[0m\u001b[1;33m.\u001b[0m\u001b[0mnan\u001b[0m\u001b[1;33m\u001b[0m\u001b[0m\n",
      "\u001b[1;32m~\\AppData\\Local\\Continuum\\anaconda3\\lib\\site-packages\\pandas\\core\\nanops.py\u001b[0m in \u001b[0;36m_f\u001b[1;34m(*args, **kwargs)\u001b[0m\n\u001b[0;32m     72\u001b[0m             \u001b[1;32mif\u001b[0m \u001b[0many\u001b[0m\u001b[1;33m(\u001b[0m\u001b[0mself\u001b[0m\u001b[1;33m.\u001b[0m\u001b[0mcheck\u001b[0m\u001b[1;33m(\u001b[0m\u001b[0mobj\u001b[0m\u001b[1;33m)\u001b[0m \u001b[1;32mfor\u001b[0m \u001b[0mobj\u001b[0m \u001b[1;32min\u001b[0m \u001b[0mobj_iter\u001b[0m\u001b[1;33m)\u001b[0m\u001b[1;33m:\u001b[0m\u001b[1;33m\u001b[0m\u001b[0m\n\u001b[0;32m     73\u001b[0m                 \u001b[0mmsg\u001b[0m \u001b[1;33m=\u001b[0m \u001b[1;34m'reduction operation {name!r} not allowed for this dtype'\u001b[0m\u001b[1;33m\u001b[0m\u001b[0m\n\u001b[1;32m---> 74\u001b[1;33m                 \u001b[1;32mraise\u001b[0m \u001b[0mTypeError\u001b[0m\u001b[1;33m(\u001b[0m\u001b[0mmsg\u001b[0m\u001b[1;33m.\u001b[0m\u001b[0mformat\u001b[0m\u001b[1;33m(\u001b[0m\u001b[0mname\u001b[0m\u001b[1;33m=\u001b[0m\u001b[0mf\u001b[0m\u001b[1;33m.\u001b[0m\u001b[0m__name__\u001b[0m\u001b[1;33m.\u001b[0m\u001b[0mreplace\u001b[0m\u001b[1;33m(\u001b[0m\u001b[1;34m'nan'\u001b[0m\u001b[1;33m,\u001b[0m \u001b[1;34m''\u001b[0m\u001b[1;33m)\u001b[0m\u001b[1;33m)\u001b[0m\u001b[1;33m)\u001b[0m\u001b[1;33m\u001b[0m\u001b[0m\n\u001b[0m\u001b[0;32m     75\u001b[0m             \u001b[1;32mtry\u001b[0m\u001b[1;33m:\u001b[0m\u001b[1;33m\u001b[0m\u001b[0m\n\u001b[0;32m     76\u001b[0m                 \u001b[1;32mwith\u001b[0m \u001b[0mnp\u001b[0m\u001b[1;33m.\u001b[0m\u001b[0merrstate\u001b[0m\u001b[1;33m(\u001b[0m\u001b[0minvalid\u001b[0m\u001b[1;33m=\u001b[0m\u001b[1;34m'ignore'\u001b[0m\u001b[1;33m)\u001b[0m\u001b[1;33m:\u001b[0m\u001b[1;33m\u001b[0m\u001b[0m\n",
      "\u001b[1;31mTypeError\u001b[0m: reduction operation 'argmin' not allowed for this dtype"
     ]
    }
   ],
   "source": [
    "from statsmodels.tsa.arima_model import ARIMA\n",
    "data[u'数目'] = data[u'数目'].astype(float)\n",
    "pmax=int(len(D_data)/10)\n",
    "qmax=int(len(D_data)/10)\n",
    "bic_matrix=[]\n",
    "for p in range(pmax+1):\n",
    "    tmp=[]\n",
    "    for q in range(qmax+1):\n",
    "        try:\n",
    "            tmp.append(ARIMA(data,(p,1,q)).fit().bic)\n",
    "        except:\n",
    "            tmp.append(None)\n",
    "    bic_matrix.append(tmp)\n",
    "bic_matrix=pd.DataFrame(bic_matrix)\n",
    "print(bic_matrix)\n",
    "p,q=bic_matrix.stack().idxmin()\n",
    "print(u'bic最小的P值和q值为：%s、%s'%(p,q))"
   ]
  },
  {
   "cell_type": "code",
   "execution_count": 10,
   "metadata": {},
   "outputs": [
    {
     "name": "stdout",
     "output_type": "stream",
     "text": [
      "(array([4873.9667493]), array([73.08574293]), array([[4730.72132537, 5017.21217324]]))\n"
     ]
    },
    {
     "name": "stderr",
     "output_type": "stream",
     "text": [
      "C:\\Users\\caijiayue\\AppData\\Local\\Continuum\\anaconda3\\lib\\site-packages\\statsmodels\\tsa\\kalmanf\\kalmanfilter.py:646: FutureWarning: Conversion of the second argument of issubdtype from `float` to `np.floating` is deprecated. In future, it will be treated as `np.float64 == np.dtype(float).type`.\n",
      "  if issubdtype(paramsdtype, float):\n",
      "C:\\Users\\caijiayue\\AppData\\Local\\Continuum\\anaconda3\\lib\\site-packages\\statsmodels\\tsa\\kalmanf\\kalmanfilter.py:650: FutureWarning: Conversion of the second argument of issubdtype from `complex` to `np.complexfloating` is deprecated. In future, it will be treated as `np.complex128 == np.dtype(complex).type`.\n",
      "  elif issubdtype(paramsdtype, complex):\n",
      "C:\\Users\\caijiayue\\AppData\\Local\\Continuum\\anaconda3\\lib\\site-packages\\statsmodels\\tsa\\kalmanf\\kalmanfilter.py:577: FutureWarning: Conversion of the second argument of issubdtype from `float` to `np.floating` is deprecated. In future, it will be treated as `np.float64 == np.dtype(float).type`.\n",
      "  if issubdtype(paramsdtype, float):\n"
     ]
    }
   ],
   "source": [
    "model=ARIMA(data,(p,1,q)).fit()\n",
    "model.summary2()\n",
    "forecast=model.forecast(1)\n",
    "print(forecast)"
   ]
  },
  {
   "cell_type": "code",
   "execution_count": null,
   "metadata": {},
   "outputs": [],
   "source": []
  }
 ],
 "metadata": {
  "kernelspec": {
   "display_name": "Python 3",
   "language": "python",
   "name": "python3"
  },
  "language_info": {
   "codemirror_mode": {
    "name": "ipython",
    "version": 3
   },
   "file_extension": ".py",
   "mimetype": "text/x-python",
   "name": "python",
   "nbconvert_exporter": "python",
   "pygments_lexer": "ipython3",
   "version": "3.6.4"
  }
 },
 "nbformat": 4,
 "nbformat_minor": 2
}
