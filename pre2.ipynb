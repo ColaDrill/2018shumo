{
 "cells": [
  {
   "cell_type": "code",
   "execution_count": 1,
   "metadata": {},
   "outputs": [],
   "source": [
    "import pandas as pd\n",
    "import numpy as np"
   ]
  },
  {
   "cell_type": "code",
   "execution_count": 28,
   "metadata": {},
   "outputs": [],
   "source": [
    "data=pd.read_csv('data/fj1.csv', dtype={\"resolution\": str, \"gsubname2\":str, \"gname3\":str, \"gsubname3\":str, \"claimmode3_txt\":str, \"weaptype4_txt\":str, \"weapsubtype4_txt\":str, \"divert\":str, \"kidhijcountry\":str})"
   ]
  },
  {
   "cell_type": "code",
   "execution_count": 13,
   "metadata": {},
   "outputs": [
    {
     "name": "stdout",
     "output_type": "stream",
     "text": [
      "<class 'pandas.core.frame.DataFrame'>\n",
      "RangeIndex: 114183 entries, 0 to 114182\n",
      "Columns: 135 entries, eventid to related\n",
      "dtypes: float64(54), int64(23), object(58)\n",
      "memory usage: 117.6+ MB\n"
     ]
    }
   ],
   "source": [
    "data.info()"
   ]
  },
  {
   "cell_type": "code",
   "execution_count": 32,
   "metadata": {},
   "outputs": [],
   "source": [
    "data15 = data[data.iyear == 2015]\n",
    "data15n = data15[data15.gname == 'Unknown']\n",
    " \n",
    "data16 = data[data.iyear == 2016]\n",
    "data16n = data16[data16.gname == 'Unknown']\n",
    "\n",
    "data1516n=pd.concat([data15n,data16n])"
   ]
  },
  {
   "cell_type": "code",
   "execution_count": 33,
   "metadata": {},
   "outputs": [],
   "source": [
    "data1516n.to_csv('data/15-16n.csv', index=False)"
   ]
  },
  {
   "cell_type": "code",
   "execution_count": null,
   "metadata": {},
   "outputs": [],
   "source": []
  }
 ],
 "metadata": {
  "kernelspec": {
   "display_name": "Python 3",
   "language": "python",
   "name": "python3"
  },
  "language_info": {
   "codemirror_mode": {
    "name": "ipython",
    "version": 3
   },
   "file_extension": ".py",
   "mimetype": "text/x-python",
   "name": "python",
   "nbconvert_exporter": "python",
   "pygments_lexer": "ipython3",
   "version": "3.6.4"
  }
 },
 "nbformat": 4,
 "nbformat_minor": 2
}
