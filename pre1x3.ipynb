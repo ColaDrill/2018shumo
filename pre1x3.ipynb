{
 "cells": [
  {
   "cell_type": "code",
   "execution_count": 1,
   "metadata": {},
   "outputs": [],
   "source": [
    "import pandas as pd\n",
    "import numpy as np\n",
    "import scipy as sp"
   ]
  },
  {
   "cell_type": "code",
   "execution_count": 2,
   "metadata": {},
   "outputs": [],
   "source": [
    "data=pd.read_csv('data/fj1.csv', dtype={\"resolution\": str, \"gsubname2\":str, \"gname3\":str, \"gsubname3\":str, \"claimmode3_txt\":str, \"weaptype4_txt\":str, \"weapsubtype4_txt\":str, \"divert\":str, \"kidhijcountry\":str})"
   ]
  },
  {
   "cell_type": "code",
   "execution_count": 3,
   "metadata": {},
   "outputs": [
    {
     "name": "stdout",
     "output_type": "stream",
     "text": [
      "<class 'pandas.core.frame.DataFrame'>\n",
      "RangeIndex: 114183 entries, 0 to 114182\n",
      "Columns: 135 entries, eventid to related\n",
      "dtypes: float64(54), int64(23), object(58)\n",
      "memory usage: 117.6+ MB\n"
     ]
    }
   ],
   "source": [
    "data.info()"
   ]
  },
  {
   "cell_type": "code",
   "execution_count": 4,
   "metadata": {},
   "outputs": [],
   "source": [
    "data['propextent'].fillna(4, inplace = True)\n",
    "data.loc[ data['propextent'] == -9, 'propextent'] = 4\n",
    "\n",
    "data['nkill'].fillna(0, inplace = True)\n",
    "data['nkillter'].fillna(0, inplace = True)\n",
    "data['nwound'].fillna(0, inplace = True)\n",
    "data['nwoundte'].fillna(0, inplace = True)\n",
    "\n",
    "data['kill_and_wound'] = (data['nkill'] - data['nkillter'])*0.7 + (data['nwound'] - data['nwoundte'])*0.3"
   ]
  },
  {
   "cell_type": "code",
   "execution_count": 5,
   "metadata": {},
   "outputs": [
    {
     "data": {
      "text/plain": [
       "3422.3"
      ]
     },
     "execution_count": 5,
     "metadata": {},
     "output_type": "execute_result"
    }
   ],
   "source": [
    "data['kill_and_wound'].max()"
   ]
  },
  {
   "cell_type": "code",
   "execution_count": 6,
   "metadata": {},
   "outputs": [],
   "source": [
    "data['pre_faith'] = data['propextent']*80 + data['kill_and_wound']/10"
   ]
  },
  {
   "cell_type": "code",
   "execution_count": 7,
   "metadata": {},
   "outputs": [
    {
     "data": {
      "text/plain": [
       "429.9"
      ]
     },
     "execution_count": 7,
     "metadata": {},
     "output_type": "execute_result"
    }
   ],
   "source": [
    "maxf = data['pre_faith'].max()\n",
    "maxf"
   ]
  },
  {
   "cell_type": "code",
   "execution_count": 8,
   "metadata": {},
   "outputs": [
    {
     "data": {
      "text/plain": [
       "82.98"
      ]
     },
     "execution_count": 8,
     "metadata": {},
     "output_type": "execute_result"
    }
   ],
   "source": [
    "minf = data['pre_faith'].min()\n",
    "minf"
   ]
  },
  {
   "cell_type": "code",
   "execution_count": 9,
   "metadata": {},
   "outputs": [],
   "source": [
    "data['faith'] = (data['pre_faith'] - minf)/(maxf - minf)"
   ]
  },
  {
   "cell_type": "code",
   "execution_count": 10,
   "metadata": {},
   "outputs": [
    {
     "data": {
      "text/plain": [
       "0         0.684538\n",
       "1         0.683472\n",
       "2         0.683414\n",
       "3         0.452612\n",
       "4         0.683299\n",
       "5         0.683212\n",
       "6         0.683212\n",
       "7         0.683212\n",
       "8         0.683299\n",
       "9         0.686210\n",
       "10        0.694685\n",
       "11        0.683385\n",
       "12        0.452612\n",
       "13        0.683212\n",
       "14        0.683212\n",
       "15        0.683212\n",
       "16        0.683212\n",
       "17        0.683212\n",
       "18        0.683414\n",
       "19        0.687017\n",
       "20        0.688458\n",
       "21        0.683616\n",
       "22        0.683616\n",
       "23        0.683212\n",
       "24        0.683414\n",
       "25        0.688257\n",
       "26        0.683212\n",
       "27        0.723567\n",
       "28        0.683212\n",
       "29        0.683212\n",
       "            ...   \n",
       "114153    0.452813\n",
       "114154    0.683385\n",
       "114155    0.683212\n",
       "114156    0.683385\n",
       "114157    0.452612\n",
       "114158    0.452612\n",
       "114159    0.683212\n",
       "114160    0.683212\n",
       "114161    0.683645\n",
       "114162    0.683414\n",
       "114163    0.684798\n",
       "114164    0.684481\n",
       "114165    0.688055\n",
       "114166    0.683212\n",
       "114167    0.683875\n",
       "114168    0.453620\n",
       "114169    0.452612\n",
       "114170    0.683501\n",
       "114171    0.683212\n",
       "114172    0.683212\n",
       "114173    0.453246\n",
       "114174    0.683212\n",
       "114175    0.684423\n",
       "114176    0.683212\n",
       "114177    0.452957\n",
       "114178    0.683587\n",
       "114179    0.684221\n",
       "114180    0.683212\n",
       "114181    0.683212\n",
       "114182    0.683212\n",
       "Name: faith, Length: 114183, dtype: float64"
      ]
     },
     "execution_count": 10,
     "metadata": {},
     "output_type": "execute_result"
    }
   ],
   "source": [
    "data['faith']"
   ]
  },
  {
   "cell_type": "code",
   "execution_count": 11,
   "metadata": {},
   "outputs": [],
   "source": [
    "data.loc[ data['faith'] < 0.2, 'level_faith'] = 5\n",
    "data.loc[ (data['faith'] >= 0.2) & (data['faith'] < 0.4), 'level_faith'] = 4\n",
    "data.loc[ (data['faith'] >= 0.4) & (data['faith'] < 0.6), 'level_faith'] = 3\n",
    "data.loc[ (data['faith'] >= 0.6) & (data['faith'] < 0.8), 'level_faith'] = 2\n",
    "data.loc[ data['faith'] >= 0.8, 'level_faith'] = 1"
   ]
  },
  {
   "cell_type": "code",
   "execution_count": 12,
   "metadata": {},
   "outputs": [
    {
     "data": {
      "image/png": "[encoded data removed]",
      "text/plain": [
       "<matplotlib.figure.Figure at 0x2b6c84da7b8>"
      ]
     },
     "metadata": {},
     "output_type": "display_data"
    }
   ],
   "source": [
    "import matplotlib.pyplot as plt\n",
    "import seaborn as sns\n",
    "sns.set_style('whitegrid')\n",
    "%matplotlib inline\n",
    "\n",
    "int_feature=['level_faith']\n",
    "for feature in int_feature:\n",
    "    features = data[feature].astype(str)\n",
    "    plat = features.value_counts()\n",
    "    \n",
    "    plt.figure(figsize=(15,4))\n",
    "    sns.barplot(plat.index, plat.values)\n",
    "    plt.xlabel('dangerous level', fontsize=12)\n",
    "    plt.ylabel('events\\'count', fontsize=12)"
   ]
  },
  {
   "cell_type": "code",
   "execution_count": 13,
   "metadata": {},
   "outputs": [],
   "source": [
    "from sklearn.preprocessing import LabelEncoder\n",
    "\n",
    "le = LabelEncoder()\n",
    "\n",
    "data['le_faith'] = le.fit_transform(data['faith']) \n",
    "\n",
    "vecc = data['le_faith'].value_counts()[:4]\n",
    "vec = vecc.index.tolist()\n",
    "vec = sorted(vec)"
   ]
  },
  {
   "cell_type": "code",
   "execution_count": 14,
   "metadata": {},
   "outputs": [
    {
     "data": {
      "text/plain": [
       "756    29263\n",
       "185    13283\n",
       "761    11077\n",
       "758     4613\n",
       "Name: le_faith, dtype: int64"
      ]
     },
     "execution_count": 14,
     "metadata": {},
     "output_type": "execute_result"
    }
   ],
   "source": [
    "vecc"
   ]
  },
  {
   "cell_type": "code",
   "execution_count": 15,
   "metadata": {},
   "outputs": [
    {
     "data": {
      "text/plain": [
       "[185, 756, 758, 761]"
      ]
     },
     "execution_count": 15,
     "metadata": {},
     "output_type": "execute_result"
    }
   ],
   "source": [
    "vec"
   ]
  },
  {
   "cell_type": "code",
   "execution_count": 16,
   "metadata": {},
   "outputs": [
    {
     "name": "stderr",
     "output_type": "stream",
     "text": [
      "C:\\Users\\caijiayue\\AppData\\Local\\Continuum\\anaconda3\\lib\\site-packages\\sklearn\\preprocessing\\label.py:151: DeprecationWarning: The truth value of an empty array is ambiguous. Returning False, but in future this will result in an error. Use `array.size > 0` to check that an array is not empty.\n",
      "  if diff:\n"
     ]
    },
    {
     "data": {
      "text/plain": [
       "[0.4526115530958146, 0.6832122679580307, 0.683298743226104, 0.6834140435835351]"
      ]
     },
     "execution_count": 16,
     "metadata": {},
     "output_type": "execute_result"
    }
   ],
   "source": [
    "list(le.inverse_transform(vec))"
   ]
  },
  {
   "cell_type": "code",
   "execution_count": 17,
   "metadata": {},
   "outputs": [],
   "source": [
    "data.loc[ data['le_faith'] < vec[0], 'level_faith2'] = 5\n",
    "data.loc[ (data['le_faith'] >= vec[0]) & (data['le_faith'] < vec[1]), 'level_faith2'] = 4\n",
    "data.loc[ (data['le_faith'] >= vec[1]) & (data['le_faith'] < vec[2]), 'level_faith2'] = 3\n",
    "data.loc[ (data['le_faith'] >= vec[2]) & (data['le_faith'] < vec[3]), 'level_faith2'] = 2\n",
    "data.loc[ data['le_faith'] >= vec[3], 'level_faith2'] = 1"
   ]
  },
  {
   "cell_type": "code",
   "execution_count": 18,
   "metadata": {},
   "outputs": [
    {
     "data": {
      "image/png": "[encoded data removed]",
      "text/plain": [
       "<matplotlib.figure.Figure at 0x2b6c88d78d0>"
      ]
     },
     "metadata": {},
     "output_type": "display_data"
    }
   ],
   "source": [
    "int_feature=['level_faith2']\n",
    "for feature in int_feature:\n",
    "    features = data[feature].astype(str)\n",
    "    plat = features.value_counts()\n",
    "    \n",
    "    plt.figure(figsize=(15,4))\n",
    "    sns.barplot(plat.index, plat.values)\n",
    "    plt.xlabel('dangerous level', fontsize=12)\n",
    "    plt.ylabel('events\\'count', fontsize=12)"
   ]
  },
  {
   "cell_type": "code",
   "execution_count": 19,
   "metadata": {},
   "outputs": [],
   "source": [
    "pre1_3 = pd.DataFrame({\n",
    "        'eventid': data['eventid'],\n",
    "        'faith': data['faith'],\n",
    "        'level_faith': data['level_faith']\n",
    "    })"
   ]
  },
  {
   "cell_type": "code",
   "execution_count": 20,
   "metadata": {},
   "outputs": [],
   "source": [
    "pre1_3.to_csv('data/pre1_3.csv', index=False)"
   ]
  },
  {
   "cell_type": "code",
   "execution_count": null,
   "metadata": {},
   "outputs": [],
   "source": []
  }
 ],
 "metadata": {
  "kernelspec": {
   "display_name": "Python 3",
   "language": "python",
   "name": "python3"
  },
  "language_info": {
   "codemirror_mode": {
    "name": "ipython",
    "version": 3
   },
   "file_extension": ".py",
   "mimetype": "text/x-python",
   "name": "python",
   "nbconvert_exporter": "python",
   "pygments_lexer": "ipython3",
   "version": "3.6.4"
  }
 },
 "nbformat": 4,
 "nbformat_minor": 2
}
