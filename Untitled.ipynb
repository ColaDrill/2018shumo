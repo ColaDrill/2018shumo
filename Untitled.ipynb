{
 "cells": [
  {
   "cell_type": "code",
   "execution_count": 1,
   "metadata": {},
   "outputs": [],
   "source": [
    "import pandas as pd\n",
    "import numpy as np"
   ]
  },
  {
   "cell_type": "code",
   "execution_count": 2,
   "metadata": {},
   "outputs": [],
   "source": [
    "data_in = pd.read_csv('data/fj1.csv', dtype={\"resolution\": str, \"gsubname2\":str, \"gname3\":str, \"gsubname3\":str, \"claimmode3_txt\":str, \"weaptype4_txt\":str, \"weapsubtype4_txt\":str, \"divert\":str, \"kidhijcountry\":str})"
   ]
  },
  {
   "cell_type": "code",
   "execution_count": 4,
   "metadata": {},
   "outputs": [],
   "source": [
    "data = data_in['country_txt']"
   ]
  },
  {
   "cell_type": "code",
   "execution_count": 7,
   "metadata": {},
   "outputs": [],
   "source": [
    "data = data.drop_duplicates() "
   ]
  },
  {
   "cell_type": "code",
   "execution_count": 8,
   "metadata": {},
   "outputs": [
    {
     "data": {
      "text/plain": [
       "0                          Burundi\n",
       "1                           Russia\n",
       "2                   United Kingdom\n",
       "3                             Iraq\n",
       "4         West Bank and Gaza Strip\n",
       "5                        Macedonia\n",
       "7                          Austria\n",
       "8                           Guyana\n",
       "9                           Rwanda\n",
       "13                         Algeria\n",
       "18                           Spain\n",
       "19                           India\n",
       "23                          Greece\n",
       "25                        Pakistan\n",
       "28                         Albania\n",
       "38                        Bulgaria\n",
       "41                         Lebanon\n",
       "43                     Philippines\n",
       "44                        Thailand\n",
       "57                       Sri Lanka\n",
       "72                   United States\n",
       "84                           Japan\n",
       "85                 Slovak Republic\n",
       "87                            Chad\n",
       "92                          France\n",
       "94                        Colombia\n",
       "102                        Georgia\n",
       "105                      Indonesia\n",
       "106                         Israel\n",
       "110                           Peru\n",
       "                    ...           \n",
       "8652                       Bolivia\n",
       "8716                      Djibouti\n",
       "9560                    Mauritania\n",
       "10465                         Togo\n",
       "10902                         Mali\n",
       "10964          Trinidad and Tobago\n",
       "11649                      Uruguay\n",
       "12091                      Lesotho\n",
       "12875                     Maldives\n",
       "14452                       Bhutan\n",
       "15059                        Benin\n",
       "15222                        Libya\n",
       "15472                         Cuba\n",
       "16227               Western Sahara\n",
       "16650                      Jamaica\n",
       "17213                      Eritrea\n",
       "17240                      Finland\n",
       "18268                       Serbia\n",
       "18689                      Romania\n",
       "23276            Equatorial Guinea\n",
       "30003         United Arab Emirates\n",
       "36794                     Portugal\n",
       "37926                  South Sudan\n",
       "37996                      Iceland\n",
       "53279                 Burkina Faso\n",
       "54426           Dominican Republic\n",
       "56063                      Bahamas\n",
       "69439                        Ghana\n",
       "72529                        Malta\n",
       "108402                       Gabon\n",
       "Name: country_txt, Length: 168, dtype: object"
      ]
     },
     "execution_count": 8,
     "metadata": {},
     "output_type": "execute_result"
    }
   ],
   "source": [
    "data"
   ]
  },
  {
   "cell_type": "markdown",
   "metadata": {},
   "source": [
    "plot2"
   ]
  },
  {
   "cell_type": "code",
   "execution_count": 13,
   "metadata": {},
   "outputs": [],
   "source": [
    "data2 = data_in[['eventid','iyear','targtype1','targtype2','targtype3']]"
   ]
  },
  {
   "cell_type": "code",
   "execution_count": 15,
   "metadata": {},
   "outputs": [
    {
     "data": {
      "text/html": [
       "<div>\n",
       "<style scoped>\n",
       "    .dataframe tbody tr th:only-of-type {\n",
       "        vertical-align: middle;\n",
       "    }\n",
       "\n",
       "    .dataframe tbody tr th {\n",
       "        vertical-align: top;\n",
       "    }\n",
       "\n",
       "    .dataframe thead th {\n",
       "        text-align: right;\n",
       "    }\n",
       "</style>\n",
       "<table border=\"1\" class=\"dataframe\">\n",
       "  <thead>\n",
       "    <tr style=\"text-align: right;\">\n",
       "      <th></th>\n",
       "      <th>eventid</th>\n",
       "      <th>iyear</th>\n",
       "      <th>targtype1</th>\n",
       "      <th>targtype2</th>\n",
       "      <th>targtype3</th>\n",
       "    </tr>\n",
       "  </thead>\n",
       "  <tbody>\n",
       "    <tr>\n",
       "      <th>73687</th>\n",
       "      <td>201412030034</td>\n",
       "      <td>2015</td>\n",
       "      <td>14</td>\n",
       "      <td>NaN</td>\n",
       "      <td>NaN</td>\n",
       "    </tr>\n",
       "    <tr>\n",
       "      <th>74378</th>\n",
       "      <td>201412220095</td>\n",
       "      <td>2015</td>\n",
       "      <td>15</td>\n",
       "      <td>NaN</td>\n",
       "      <td>NaN</td>\n",
       "    </tr>\n",
       "    <tr>\n",
       "      <th>74730</th>\n",
       "      <td>201501010001</td>\n",
       "      <td>2015</td>\n",
       "      <td>8</td>\n",
       "      <td>NaN</td>\n",
       "      <td>NaN</td>\n",
       "    </tr>\n",
       "    <tr>\n",
       "      <th>74731</th>\n",
       "      <td>201501010002</td>\n",
       "      <td>2015</td>\n",
       "      <td>15</td>\n",
       "      <td>NaN</td>\n",
       "      <td>NaN</td>\n",
       "    </tr>\n",
       "    <tr>\n",
       "      <th>74732</th>\n",
       "      <td>201501010003</td>\n",
       "      <td>2015</td>\n",
       "      <td>17</td>\n",
       "      <td>NaN</td>\n",
       "      <td>NaN</td>\n",
       "    </tr>\n",
       "  </tbody>\n",
       "</table>\n",
       "</div>"
      ],
      "text/plain": [
       "            eventid  iyear  targtype1  targtype2  targtype3\n",
       "73687  201412030034   2015         14        NaN        NaN\n",
       "74378  201412220095   2015         15        NaN        NaN\n",
       "74730  201501010001   2015          8        NaN        NaN\n",
       "74731  201501010002   2015         15        NaN        NaN\n",
       "74732  201501010003   2015         17        NaN        NaN"
      ]
     },
     "execution_count": 15,
     "metadata": {},
     "output_type": "execute_result"
    }
   ],
   "source": [
    "data2 = data2[data2.iyear >= 2015]\n",
    "\n",
    "data2.head()"
   ]
  },
  {
   "cell_type": "code",
   "execution_count": 16,
   "metadata": {},
   "outputs": [
    {
     "data": {
      "text/plain": [
       "935"
      ]
     },
     "execution_count": 16,
     "metadata": {},
     "output_type": "execute_result"
    }
   ],
   "source": [
    "data2[data2.targtype1 == 15].eventid.count()"
   ]
  },
  {
   "cell_type": "code",
   "execution_count": 20,
   "metadata": {},
   "outputs": [
    {
     "data": {
      "text/plain": [
       "973"
      ]
     },
     "execution_count": 20,
     "metadata": {},
     "output_type": "execute_result"
    }
   ],
   "source": [
    "c_list = [15]\n",
    "count = 0\n",
    "for c in c_list:\n",
    "    count = count + data2[data2.targtype1 == c].eventid.count()+data2[data2.targtype2 == c].eventid.count()+data2[data2.targtype3 == c].eventid.count()\n",
    "\n",
    "count"
   ]
  },
  {
   "cell_type": "code",
   "execution_count": 21,
   "metadata": {},
   "outputs": [
    {
     "data": {
      "text/plain": [
       "18170"
      ]
     },
     "execution_count": 21,
     "metadata": {},
     "output_type": "execute_result"
    }
   ],
   "source": [
    "c_list = [2,3,4,7,22]\n",
    "count = 0\n",
    "for c in c_list:\n",
    "    count = count + data2[data2.targtype1 == c].eventid.count()+data2[data2.targtype2 == c].eventid.count()+data2[data2.targtype3 == c].eventid.count()\n",
    "\n",
    "count"
   ]
  },
  {
   "cell_type": "code",
   "execution_count": 22,
   "metadata": {},
   "outputs": [
    {
     "data": {
      "text/plain": [
       "16619"
      ]
     },
     "execution_count": 22,
     "metadata": {},
     "output_type": "execute_result"
    }
   ],
   "source": [
    "c_list = [1,14]\n",
    "count = 0\n",
    "for c in c_list:\n",
    "    count = count + data2[data2.targtype1 == c].eventid.count()+data2[data2.targtype2 == c].eventid.count()+data2[data2.targtype3 == c].eventid.count()\n",
    "\n",
    "count"
   ]
  },
  {
   "cell_type": "code",
   "execution_count": 23,
   "metadata": {},
   "outputs": [
    {
     "data": {
      "text/plain": [
       "2596"
      ]
     },
     "execution_count": 23,
     "metadata": {},
     "output_type": "execute_result"
    }
   ],
   "source": [
    "c_list = [5,6,9,10,11,12,13,16,19,21]\n",
    "count = 0\n",
    "for c in c_list:\n",
    "    count = count + data2[data2.targtype1 == c].eventid.count()+data2[data2.targtype2 == c].eventid.count()+data2[data2.targtype3 == c].eventid.count()\n",
    "\n",
    "count"
   ]
  },
  {
   "cell_type": "markdown",
   "metadata": {},
   "source": [
    "plot3"
   ]
  },
  {
   "cell_type": "code",
   "execution_count": 24,
   "metadata": {},
   "outputs": [],
   "source": [
    "g = data_in['gname']"
   ]
  },
  {
   "cell_type": "code",
   "execution_count": 25,
   "metadata": {},
   "outputs": [],
   "source": [
    "g = g.drop_duplicates() "
   ]
  },
  {
   "cell_type": "code",
   "execution_count": 26,
   "metadata": {},
   "outputs": [
    {
     "data": {
      "text/plain": [
       "0                                           Hutu extremists\n",
       "1                                                   Unknown\n",
       "2                           Loyalist Volunteer Forces (LVF)\n",
       "5                              Kosovo Liberation Army (KLA)\n",
       "15                  Continuity Irish Republican Army (CIRA)\n",
       "18                      Basque Fatherland and Freedom (ETA)\n",
       "23                             Fighting Guerrilla Formation\n",
       "25                                        Lashkar-e-Jhangvi\n",
       "26                                Armed Islamic Group (GIA)\n",
       "35                              Algerian Islamic Extremists\n",
       "39                                                   15-May\n",
       "41                                                Hezbollah\n",
       "43                              Alex Boncayao Brigade (ABB)\n",
       "50                    Irish National Liberation Army (INLA)\n",
       "57                  Liberation Tigers of Tamil Eelam (LTTE)\n",
       "69                             Conscientious Arsonists (CA)\n",
       "80                                              Army of God\n",
       "84               Revolutionary Workers' Council (Kakurokyo)\n",
       "86                  United Liberation Front of Assam (ULFA)\n",
       "87                               Union of Democratic Forces\n",
       "92                Corsican National Liberation Front (FLNC)\n",
       "103                             Irish Republican Army (IRA)\n",
       "105                                                  Ninjas\n",
       "106                                  Palestinian Extremists\n",
       "116           Pattani United Liberation Organization (PULO)\n",
       "122                                                Al-Ummah\n",
       "134                                       Shining Path (SL)\n",
       "137       National Union for the Total Independence of A...\n",
       "142                          Allied Democratic Forces (ADF)\n",
       "143                                               Zviadists\n",
       "                                ...                        \n",
       "111260                             Christian State-Holy Rus\n",
       "111315    The Defense Command of the French People and t...\n",
       "111448                                      Ahneish Militia\n",
       "111483            Anarchist Revolt Against Exiled Gendarmes\n",
       "111500          Indigenous People's Front of Tripura (IPFT)\n",
       "111518                                        Torpedy Group\n",
       "111521       Liberation Front for English-speaking Cameroon\n",
       "111523                                       The Nocturnals\n",
       "111653                           Sinhale Jathika Balamuluwa\n",
       "111839                             Anas al-Dabbashi Brigade\n",
       "111938                          Ansar al-Sunna (Mozambique)\n",
       "112012                              Mai Mai Malaika Militia\n",
       "112218                            Pro-Government extremists\n",
       "112274           Anarchist Collective of Kallithea-Moschato\n",
       "112378                               Ansar al-Islam (Egypt)\n",
       "112496                                  Feminist extremists\n",
       "112568    Movement for the Restoration of the Independen...\n",
       "112588                                      Sikh Extremists\n",
       "112635             Arm na Poblachta' (Army of the Republic)\n",
       "112680                                             Crypteia\n",
       "112859                                   Hafeez Brohi Group\n",
       "113126                                   Bachama extremists\n",
       "113277                           Nepali Congress Party (NC)\n",
       "113415                           Bedouin Israeli extremists\n",
       "113521                                Ansar Ghazwat-ul-Hind\n",
       "113733                        The Owners of the White Flags\n",
       "113810          High Council for the Unity of Azawad (HCUA)\n",
       "113845                                      Fatoni Warriors\n",
       "113935                   Minorities of Metropolitan Attacks\n",
       "113944                              Baloch Republican Party\n",
       "Name: gname, Length: 1583, dtype: object"
      ]
     },
     "execution_count": 26,
     "metadata": {},
     "output_type": "execute_result"
    }
   ],
   "source": [
    "g"
   ]
  },
  {
   "cell_type": "code",
   "execution_count": null,
   "metadata": {},
   "outputs": [],
   "source": []
  }
 ],
 "metadata": {
  "kernelspec": {
   "display_name": "Python 3",
   "language": "python",
   "name": "python3"
  },
  "language_info": {
   "codemirror_mode": {
    "name": "ipython",
    "version": 3
   },
   "file_extension": ".py",
   "mimetype": "text/x-python",
   "name": "python",
   "nbconvert_exporter": "python",
   "pygments_lexer": "ipython3",
   "version": "3.6.4"
  }
 },
 "nbformat": 4,
 "nbformat_minor": 2
}
