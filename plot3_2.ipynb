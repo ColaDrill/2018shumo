{
 "cells": [
  {
   "cell_type": "code",
   "execution_count": 1,
   "metadata": {},
   "outputs": [],
   "source": [
    "import pandas as pd\n",
    "import numpy as np\n",
    "import scipy as sp\n",
    "\n",
    "import matplotlib.pyplot as plt\n",
    "import seaborn as sns\n",
    "sns.set_style('whitegrid')\n",
    "%matplotlib inline"
   ]
  },
  {
   "cell_type": "code",
   "execution_count": 7,
   "metadata": {},
   "outputs": [],
   "source": [
    "data = pd.read_csv('data/fj1.csv', dtype={\"resolution\": str, \"gsubname2\":str, \"gname3\":str, \"gsubname3\":str, \"claimmode3_txt\":str, \"weaptype4_txt\":str, \"weapsubtype4_txt\":str, \"divert\":str, \"kidhijcountry\":str})"
   ]
  },
  {
   "cell_type": "markdown",
   "metadata": {},
   "source": [
    "2015"
   ]
  },
  {
   "cell_type": "code",
   "execution_count": 9,
   "metadata": {},
   "outputs": [],
   "source": [
    "data15 = data[data.iyear == 2015]\n",
    "\n",
    "data15 = data15[['eventid','region']]\n",
    "\n",
    "df15 = data15.groupby(by=['region'])['eventid'].count()\n",
    "\n",
    "count15 =pd.DataFrame({\"region\":df15.index,\"count of events\":df15})\n",
    "\n",
    "count15['fre_prec'] = count15['count of events'] / count15['count of events'].sum()"
   ]
  },
  {
   "cell_type": "code",
   "execution_count": 15,
   "metadata": {},
   "outputs": [],
   "source": [
    "submission15 = pd.DataFrame({\n",
    "        \"region\": count15['region'],\n",
    "        \"fre\": count15['count of events'],\n",
    "        \"fre_prec\": count15['fre_prec']\n",
    "    })\n",
    "submission15.to_csv('data/count2015.csv', index=False)"
   ]
  },
  {
   "cell_type": "markdown",
   "metadata": {},
   "source": [
    "2016"
   ]
  },
  {
   "cell_type": "code",
   "execution_count": 16,
   "metadata": {},
   "outputs": [],
   "source": [
    "data16 = data[data.iyear == 2016]\n",
    "\n",
    "data16 = data16[['eventid','region']]\n",
    "\n",
    "df16 = data16.groupby(by=['region'])['eventid'].count()\n",
    "\n",
    "count16 =pd.DataFrame({\"region\":df16.index,\"count of events\":df16})\n",
    "\n",
    "count16['fre_prec'] = count16['count of events'] / count16['count of events'].sum()"
   ]
  },
  {
   "cell_type": "code",
   "execution_count": 17,
   "metadata": {},
   "outputs": [],
   "source": [
    "submission16 = pd.DataFrame({\n",
    "        \"region\": count16['region'],\n",
    "        \"fre\": count16['count of events'],\n",
    "        \"fre_prec\": count16['fre_prec']\n",
    "    })\n",
    "submission16.to_csv('data/count2016.csv', index=False)"
   ]
  },
  {
   "cell_type": "markdown",
   "metadata": {},
   "source": [
    "2017"
   ]
  },
  {
   "cell_type": "code",
   "execution_count": 18,
   "metadata": {},
   "outputs": [],
   "source": [
    "data17 = data[data.iyear == 2017]\n",
    "\n",
    "data17 = data17[['eventid','region']]\n",
    "\n",
    "df17 = data17.groupby(by=['region'])['eventid'].count()\n",
    "\n",
    "count17 =pd.DataFrame({\"region\":df17.index,\"count of events\":df17})\n",
    "\n",
    "count17['fre_prec'] = count17['count of events'] / count17['count of events'].sum()"
   ]
  },
  {
   "cell_type": "code",
   "execution_count": 19,
   "metadata": {},
   "outputs": [],
   "source": [
    "submission17 = pd.DataFrame({\n",
    "        \"region\": count17['region'],\n",
    "        \"fre\": count17['count of events'],\n",
    "        \"fre_prec\": count17['fre_prec']\n",
    "    })\n",
    "submission17.to_csv('data/count2017.csv', index=False)"
   ]
  },
  {
   "cell_type": "code",
   "execution_count": null,
   "metadata": {},
   "outputs": [],
   "source": []
  }
 ],
 "metadata": {
  "kernelspec": {
   "display_name": "Python 3",
   "language": "python",
   "name": "python3"
  },
  "language_info": {
   "codemirror_mode": {
    "name": "ipython",
    "version": 3
   },
   "file_extension": ".py",
   "mimetype": "text/x-python",
   "name": "python",
   "nbconvert_exporter": "python",
   "pygments_lexer": "ipython3",
   "version": "3.6.4"
  }
 },
 "nbformat": 4,
 "nbformat_minor": 2
}
